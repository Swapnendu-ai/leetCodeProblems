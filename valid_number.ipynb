{
 "metadata": {
  "language_info": {
   "codemirror_mode": {
    "name": "ipython",
    "version": 3
   },
   "file_extension": ".py",
   "mimetype": "text/x-python",
   "name": "python",
   "nbconvert_exporter": "python",
   "pygments_lexer": "ipython3",
   "version": "3.9.0-final"
  },
  "orig_nbformat": 2,
  "kernelspec": {
   "name": "Python 3.9.0 64-bit",
   "display_name": "Python 3.9.0 64-bit",
   "metadata": {
    "interpreter": {
     "hash": "95d86d8f09c6455694500d91e1392db93eaa9d8a3073117bd76118a86a743449"
    }
   }
  }
 },
 "nbformat": 4,
 "nbformat_minor": 2,
 "cells": [
  {
   "source": [
    "# Valid Number"
   ],
   "cell_type": "markdown",
   "metadata": {}
  },
  {
   "source": [
    "https://leetcode.com/problems/valid-number/"
   ],
   "cell_type": "markdown",
   "metadata": {}
  },
  {
   "cell_type": "code",
   "execution_count": 162,
   "metadata": {},
   "outputs": [],
   "source": [
    "class Solution:\n",
    "    validCharacters = {'e','-','+','.'} | set(map(str,range(10)))\n",
    "\n",
    "    def check(self,s: str) -> bool:\n",
    "        if not s:\n",
    "            return False\n",
    "        if s.count('-') + s.count('+') > 1:\n",
    "            return False\n",
    "        if s.count('-') + s.count('+') == 1 and (s[0] not in {'+','-'} or s[-1] in {'+','-'}):\n",
    "            return False\n",
    "        \n",
    "        for index,c in enumerate(s):\n",
    "            if c not in self.validCharacters:\n",
    "                return False\n",
    "        if s[-1] == '.' and len(s) == 1:\n",
    "            return False\n",
    "        if '.' in s and s.split('.')[1] in {'+','-'}:\n",
    "            return False\n",
    "        return True\n",
    "\n",
    "\n",
    "    def isNumber(self, s: str) -> bool:\n",
    "        stripped = s.strip()\n",
    "\n",
    "        if (not stripped \n",
    "        or s.count('e') > 1 \n",
    "        or s.count('.') > 1\n",
    "        or stripped[0] == 'e' or stripped[-1] == 'e'):\n",
    "            return False\n",
    "\n",
    "        if 'e' in stripped:\n",
    "            separated = stripped.split('e')           \n",
    "            left,right = (separated[0],separated[1])\n",
    "            if '.' in right:\n",
    "                return False\n",
    "            return self.check(left) and self.check(right)\n",
    "            \n",
    "        return self.check(stripped)\n",
    "\n",
    "            "
   ]
  },
  {
   "cell_type": "code",
   "execution_count": 163,
   "metadata": {},
   "outputs": [],
   "source": [
    "s = Solution()"
   ]
  },
  {
   "cell_type": "code",
   "execution_count": 164,
   "metadata": {},
   "outputs": [
    {
     "output_type": "execute_result",
     "data": {
      "text/plain": [
       "True"
      ]
     },
     "metadata": {},
     "execution_count": 164
    }
   ],
   "source": [
    "s.isNumber('0')"
   ]
  },
  {
   "cell_type": "code",
   "execution_count": 165,
   "metadata": {},
   "outputs": [
    {
     "output_type": "execute_result",
     "data": {
      "text/plain": [
       "True"
      ]
     },
     "metadata": {},
     "execution_count": 165
    }
   ],
   "source": [
    "s.isNumber('0.1')"
   ]
  },
  {
   "cell_type": "code",
   "execution_count": 166,
   "metadata": {},
   "outputs": [
    {
     "output_type": "execute_result",
     "data": {
      "text/plain": [
       "False"
      ]
     },
     "metadata": {},
     "execution_count": 166
    }
   ],
   "source": [
    "s.isNumber('abc')"
   ]
  },
  {
   "cell_type": "code",
   "execution_count": 167,
   "metadata": {},
   "outputs": [
    {
     "output_type": "execute_result",
     "data": {
      "text/plain": [
       "False"
      ]
     },
     "metadata": {},
     "execution_count": 167
    }
   ],
   "source": [
    "s.isNumber('1 a')"
   ]
  },
  {
   "cell_type": "code",
   "execution_count": 168,
   "metadata": {},
   "outputs": [
    {
     "output_type": "execute_result",
     "data": {
      "text/plain": [
       "True"
      ]
     },
     "metadata": {},
     "execution_count": 168
    }
   ],
   "source": [
    "s.isNumber('2e10')"
   ]
  },
  {
   "cell_type": "code",
   "execution_count": 169,
   "metadata": {},
   "outputs": [
    {
     "output_type": "execute_result",
     "data": {
      "text/plain": [
       "True"
      ]
     },
     "metadata": {},
     "execution_count": 169
    }
   ],
   "source": [
    "s.isNumber(' -90e3   ')"
   ]
  },
  {
   "cell_type": "code",
   "execution_count": 170,
   "metadata": {},
   "outputs": [
    {
     "output_type": "execute_result",
     "data": {
      "text/plain": [
       "False"
      ]
     },
     "metadata": {},
     "execution_count": 170
    }
   ],
   "source": [
    "s.isNumber(\" 1e\")"
   ]
  },
  {
   "cell_type": "code",
   "execution_count": 171,
   "metadata": {},
   "outputs": [
    {
     "output_type": "execute_result",
     "data": {
      "text/plain": [
       "False"
      ]
     },
     "metadata": {},
     "execution_count": 171
    }
   ],
   "source": [
    "s.isNumber(\"e3\")"
   ]
  },
  {
   "cell_type": "code",
   "execution_count": 172,
   "metadata": {},
   "outputs": [
    {
     "output_type": "execute_result",
     "data": {
      "text/plain": [
       "True"
      ]
     },
     "metadata": {},
     "execution_count": 172
    }
   ],
   "source": [
    "s.isNumber(\" 6e-1\" )"
   ]
  },
  {
   "cell_type": "code",
   "execution_count": 173,
   "metadata": {},
   "outputs": [
    {
     "output_type": "execute_result",
     "data": {
      "text/plain": [
       "False"
      ]
     },
     "metadata": {},
     "execution_count": 173
    }
   ],
   "source": [
    "s.isNumber(\" 99e2.5 \")"
   ]
  },
  {
   "cell_type": "code",
   "execution_count": 174,
   "metadata": {},
   "outputs": [
    {
     "output_type": "execute_result",
     "data": {
      "text/plain": [
       "True"
      ]
     },
     "metadata": {},
     "execution_count": 174
    }
   ],
   "source": [
    "s.isNumber(\"53.5e93\")"
   ]
  },
  {
   "cell_type": "code",
   "execution_count": 175,
   "metadata": {},
   "outputs": [
    {
     "output_type": "execute_result",
     "data": {
      "text/plain": [
       "False"
      ]
     },
     "metadata": {},
     "execution_count": 175
    }
   ],
   "source": [
    "s.isNumber(\" --6 \")"
   ]
  },
  {
   "cell_type": "code",
   "execution_count": 176,
   "metadata": {},
   "outputs": [
    {
     "output_type": "execute_result",
     "data": {
      "text/plain": [
       "False"
      ]
     },
     "metadata": {},
     "execution_count": 176
    }
   ],
   "source": [
    "s.isNumber(\"-+3\")"
   ]
  },
  {
   "cell_type": "code",
   "execution_count": 177,
   "metadata": {},
   "outputs": [
    {
     "output_type": "execute_result",
     "data": {
      "text/plain": [
       "False"
      ]
     },
     "metadata": {},
     "execution_count": 177
    }
   ],
   "source": [
    "s.isNumber(\"95a54e53\")"
   ]
  },
  {
   "cell_type": "code",
   "execution_count": 178,
   "metadata": {},
   "outputs": [
    {
     "output_type": "execute_result",
     "data": {
      "text/plain": [
       "False"
      ]
     },
     "metadata": {},
     "execution_count": 178
    }
   ],
   "source": [
    "s.isNumber(\"6+1\")"
   ]
  },
  {
   "cell_type": "code",
   "execution_count": 179,
   "metadata": {},
   "outputs": [
    {
     "output_type": "execute_result",
     "data": {
      "text/plain": [
       "True"
      ]
     },
     "metadata": {},
     "execution_count": 179
    }
   ],
   "source": [
    "s.isNumber(\" -.\")"
   ]
  },
  {
   "source": [
    "I gave up on the last test case."
   ],
   "cell_type": "markdown",
   "metadata": {}
  }
 ]
}