{
 "metadata": {
  "language_info": {
   "codemirror_mode": {
    "name": "ipython",
    "version": 3
   },
   "file_extension": ".py",
   "mimetype": "text/x-python",
   "name": "python",
   "nbconvert_exporter": "python",
   "pygments_lexer": "ipython3",
   "version": "3.9.0-final"
  },
  "orig_nbformat": 2,
  "kernelspec": {
   "name": "Python 3.9.0 64-bit",
   "display_name": "Python 3.9.0 64-bit",
   "metadata": {
    "interpreter": {
     "hash": "95d86d8f09c6455694500d91e1392db93eaa9d8a3073117bd76118a86a743449"
    }
   }
  }
 },
 "nbformat": 4,
 "nbformat_minor": 2,
 "cells": [
  {
   "source": [
    "# String to Integer (atoi)\n",
    "https://leetcode.com/problems/string-to-integer-atoi/"
   ],
   "cell_type": "markdown",
   "metadata": {}
  },
  {
   "cell_type": "code",
   "execution_count": 41,
   "metadata": {},
   "outputs": [],
   "source": [
    "class Solution:\n",
    "    def convert(self,s:str):\n",
    "        result = 0\n",
    "        for c in s:\n",
    "            if c.isnumeric():\n",
    "                result = result*10 + (ord(c) - ord('0'))\n",
    "            else:\n",
    "                return result\n",
    "        return result \n",
    "\n",
    "    def myAtoi(self, s: str) -> int:\n",
    "        stripped = s.strip()\n",
    "        if stripped == '' or not (stripped[0] in {'+','-'} or stripped[0].isnumeric()):\n",
    "            return 0\n",
    "        signMultiplier = -1 if stripped[0] == '-' else 1\n",
    "        if stripped[0] in {'+','-'}:\n",
    "            result = signMultiplier * self.convert(stripped[1:])\n",
    "        else:\n",
    "            result = signMultiplier * self.convert(stripped)\n",
    "        return max(-2**31,min(2**31-1,result))\n",
    "        \n",
    "s = Solution()     "
   ]
  },
  {
   "cell_type": "code",
   "execution_count": 38,
   "metadata": {},
   "outputs": [
    {
     "output_type": "execute_result",
     "data": {
      "text/plain": [
       "True"
      ]
     },
     "metadata": {},
     "execution_count": 38
    }
   ],
   "source": [
    "s.myAtoi(str(-2**31 - 100)) == -2**31"
   ]
  },
  {
   "cell_type": "code",
   "execution_count": 37,
   "metadata": {},
   "outputs": [
    {
     "output_type": "execute_result",
     "data": {
      "text/plain": [
       "-123"
      ]
     },
     "metadata": {},
     "execution_count": 37
    }
   ],
   "source": [
    "s.myAtoi('- w 123')"
   ]
  },
  {
   "cell_type": "code",
   "execution_count": 39,
   "metadata": {},
   "outputs": [
    {
     "output_type": "execute_result",
     "data": {
      "text/plain": [
       "42"
      ]
     },
     "metadata": {},
     "execution_count": 39
    }
   ],
   "source": [
    "s.myAtoi('42')"
   ]
  },
  {
   "cell_type": "code",
   "execution_count": 42,
   "metadata": {},
   "outputs": [
    {
     "output_type": "execute_result",
     "data": {
      "text/plain": [
       "3"
      ]
     },
     "metadata": {},
     "execution_count": 42
    }
   ],
   "source": [
    "s.myAtoi('3.14')"
   ]
  },
  {
   "cell_type": "code",
   "execution_count": null,
   "metadata": {},
   "outputs": [],
   "source": []
  }
 ]
}